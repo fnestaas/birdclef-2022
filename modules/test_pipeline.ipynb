{
 "cells": [
  {
   "cell_type": "code",
   "execution_count": 2,
   "metadata": {},
   "outputs": [
    {
     "name": "stderr",
     "output_type": "stream",
     "text": [
      "/home/fredrik/Documents/School/S9/AI4Good/ai4good_code/venv/lib/python3.9/site-packages/tqdm/auto.py:22: TqdmWarning: IProgress not found. Please update jupyter and ipywidgets. See https://ipywidgets.readthedocs.io/en/stable/user_install.html\n",
      "  from .autonotebook import tqdm as notebook_tqdm\n"
     ]
    }
   ],
   "source": [
    "%load_ext autoreload\n",
    "%autoreload 2 \n",
    "\n",
    "from TransformApplier import TransformApplier \n",
    "from Wav2Spec import Wav2Spec\n",
    "from SimpleDataset import SimpleDataset\n",
    "import pandas as pd \n",
    "from PretrainedModel import PretrainedModel"
   ]
  },
  {
   "cell_type": "code",
   "execution_count": 3,
   "metadata": {},
   "outputs": [],
   "source": [
    "DATA_PATH = '../birdclef-2022/'\n",
    "metadata = pd.read_csv('../birdclef-2022/train_metadata.csv')\n",
    "import json\n",
    "with open(f'{DATA_PATH}scored_birds.json') as f:\n",
    "    birds = json.load(f)"
   ]
  },
  {
   "cell_type": "code",
   "execution_count": 17,
   "metadata": {},
   "outputs": [],
   "source": [
    "\n",
    "dataset = SimpleDataset(metadata, DATA_PATH, labels=birds)"
   ]
  },
  {
   "cell_type": "code",
   "execution_count": 20,
   "metadata": {},
   "outputs": [
    {
     "name": "stdout",
     "output_type": "stream",
     "text": [
      "train_audio/akepa1/XC122473.ogg\n",
      "22 (tensor([ 4.8033e-06,  2.8010e-06,  5.4884e-06,  ..., -2.1241e-02,\n",
      "        -1.3902e-02, -4.4505e-03]), array([1, 0, 1, 0, 0, 0, 0, 1, 1, 0, 0, 0, 0, 1, 0, 0, 0, 0, 0, 0, 0]))\n"
     ]
    }
   ],
   "source": [
    "import numpy as np\n",
    "for i in range(1000):\n",
    "    d = dataset.__getitem__(i, debug=False)\n",
    "    if np.sum(d[-1]) > 2:\n",
    "        dataset.__getitem__(i, debug=True)\n",
    "        print(i, d)\n",
    "        break"
   ]
  },
  {
   "cell_type": "code",
   "execution_count": null,
   "metadata": {},
   "outputs": [],
   "source": []
  }
 ],
 "metadata": {
  "kernelspec": {
   "display_name": "Python 3.9.7 ('venv': venv)",
   "language": "python",
   "name": "python3"
  },
  "language_info": {
   "codemirror_mode": {
    "name": "ipython",
    "version": 3
   },
   "file_extension": ".py",
   "mimetype": "text/x-python",
   "name": "python",
   "nbconvert_exporter": "python",
   "pygments_lexer": "ipython3",
   "version": "3.9.7"
  },
  "orig_nbformat": 4,
  "vscode": {
   "interpreter": {
    "hash": "ad735b6331381b4aa24eee4bc884a68ab8bc065c6ee95bf0f72270a9ca226ae5"
   }
  }
 },
 "nbformat": 4,
 "nbformat_minor": 2
}
