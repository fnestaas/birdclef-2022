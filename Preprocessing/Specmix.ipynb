{
 "cells": [
  {
   "cell_type": "code",
   "execution_count": null,
   "metadata": {},
   "outputs": [],
   "source": [
    "#As implemented in https://github.com/anas-r-dev/specmix-pytorch/blob/main/specmix.py.\n",
    "#Specmix should be cutmix specifically for spectrograms\n",
    "\n",
    "import random\n",
    "import torch\n",
    "\n",
    "def get_band(x, min_band_size, max_band_size, band_type, mask):\n",
    "    assert band_type.lower() in ['freq', 'time'], f\"band_type must be in ['freq', 'time']\"\n",
    "    if band_type.lower() == 'freq':\n",
    "        axis = 2\n",
    "    else:\n",
    "        axis = 1\n",
    "    band_size =  random.randint(min_band_size, max_band_size)\n",
    "    mask_start = random.randint(0, x.size()[axis] - band_size) \n",
    "    mask_end = mask_start + band_size\n",
    "    \n",
    "    if band_type.lower() == 'freq':\n",
    "        mask[:, mask_start:mask_end] = 1\n",
    "    if band_type.lower() == 'time':\n",
    "        mask[mask_start:mask_end, :] = 1\n",
    "    return mask\n",
    "\n",
    "def specmix(x, y, prob, min_band_size, max_band_size, max_frequency_bands=3, max_time_bands=3):\n",
    "    if prob < 0:\n",
    "        raise ValueError('prob must be a positive value')\n",
    "\n",
    "    k = random.random()\n",
    "    if k > 1 - prob:\n",
    "        batch_size = x.size()[0]\n",
    "        batch_idx = torch.randperm(batch_size)\n",
    "        print(batch_idx)\n",
    "        mask = torch.zeros(x.size()[1:3])\n",
    "        num_frequency_bands = random.randint(1, max_frequency_bands)\n",
    "        for i in range(1, num_frequency_bands):\n",
    "            mask = get_band(x, min_band_size, max_band_size, 'freq', mask)\n",
    "        num_time_bands = random.randint(1, max_time_bands)\n",
    "        for i in range(1, num_time_bands):\n",
    "            mask = get_band(x, min_band_size, max_band_size, 'time', mask)\n",
    "        lam = torch.sum(mask) / (x.size()[1] * x.size()[2])\n",
    "        x = x * (1 - mask) + x[batch_idx] * mask\n",
    "        y = y * (1 - lam) + y[batch_idx] * (lam)\n",
    "        return x, y\n",
    "    else:\n",
    "        return x, y"
   ]
  }
 ],
 "metadata": {
  "kernelspec": {
   "display_name": "Python 3.10.0 64-bit",
   "language": "python",
   "name": "python3"
  },
  "language_info": {
   "name": "python",
   "version": "3.10.0"
  },
  "orig_nbformat": 4,
  "vscode": {
   "interpreter": {
    "hash": "dfcdafd4c2f198e9231774dbaa691ef2a9d56c92dabac0fe3d9f172dfc08608e"
   }
  }
 },
 "nbformat": 4,
 "nbformat_minor": 2
}
