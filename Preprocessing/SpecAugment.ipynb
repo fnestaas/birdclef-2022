{
 "cells": [
  {
   "cell_type": "code",
   "execution_count": null,
   "metadata": {},
   "outputs": [],
   "source": [
    "import torchaudio.transforms as T\n",
    "class SpecAugment():\n",
    "    def __init__(self,spec):\n",
    "        self.spec=spec\n",
    "    def time_stretching(self,rate=1.2):\n",
    "        stretch = T.TimeStretch()\n",
    "        return stretch(self.spec,rate)\n",
    "        #return T.TimeStretch(self.spec,rate)\n",
    "    def time_masking(self,time_mask_param=80):\n",
    "        masking = T.TimeMasking(time_mask_param=time_mask_param)\n",
    "        return masking(self.spec)\n",
    "        #return T.TimeMasking(self.spec,time_mask_param)\n",
    "    def freq_masking(self,freq_mask_param=80):\n",
    "        masking = T.FrequencyMasking(freq_mask_param=freq_mask_param)\n",
    "        return masking(self.spec)\n",
    "        #return T.FrequencyMasking(freq_mask_param)\n",
    "    def combined(self,rate=1.2,time_mask_param=80,freq_mask_param=80):\n",
    "        stretch = T.TimeStretch()\n",
    "        time_masking = T.TimeMasking(time_mask_param=time_mask_param)\n",
    "        freq_masking = T.FrequencyMasking(freq_mask_param=freq_mask_param)\n",
    "        return time_masking(freq_masking(stretch(self.spec,rate)))\n",
    "\n",
    "#Use it for one datapoint at a time, like this:\n",
    "'''for spec in data:\n",
    "    apply = SpecAugment(spec=spec)\n",
    "    stretched=apply.time_masking()\n",
    "    freq_masked=apply.freq_masking()\n",
    "    time_masked=apply.time_masking()\n",
    "    combined=apply.combined()'''\n"
   ]
  }
 ],
 "metadata": {
  "kernelspec": {
   "display_name": "Python 3.10.0 64-bit",
   "language": "python",
   "name": "python3"
  },
  "language_info": {
   "name": "python",
   "version": "3.10.0"
  },
  "orig_nbformat": 4,
  "vscode": {
   "interpreter": {
    "hash": "dfcdafd4c2f198e9231774dbaa691ef2a9d56c92dabac0fe3d9f172dfc08608e"
   }
  }
 },
 "nbformat": 4,
 "nbformat_minor": 2
}
