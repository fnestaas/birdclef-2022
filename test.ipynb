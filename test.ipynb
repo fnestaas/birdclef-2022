{
 "cells": [
  {
   "cell_type": "code",
   "execution_count": 13,
   "metadata": {},
   "outputs": [
    {
     "name": "stdout",
     "output_type": "stream",
     "text": [
      "[0 1 1 0 0 1]\n"
     ]
    }
   ],
   "source": [
    "import numpy as np\n",
    "n = 6\n",
    "ex = [1, 2, 5]\n",
    "print(np.sum([(np.arange(n) == e).astype(int) for e in ex], axis=0))"
   ]
  },
  {
   "cell_type": "code",
   "execution_count": null,
   "metadata": {},
   "outputs": [],
   "source": []
  }
 ],
 "metadata": {
  "kernelspec": {
   "display_name": "Python 3.9.7 ('venv': venv)",
   "language": "python",
   "name": "python3"
  },
  "language_info": {
   "codemirror_mode": {
    "name": "ipython",
    "version": 3
   },
   "file_extension": ".py",
   "mimetype": "text/x-python",
   "name": "python",
   "nbconvert_exporter": "python",
   "pygments_lexer": "ipython3",
   "version": "3.9.7"
  },
  "orig_nbformat": 4,
  "vscode": {
   "interpreter": {
    "hash": "ad735b6331381b4aa24eee4bc884a68ab8bc065c6ee95bf0f72270a9ca226ae5"
   }
  }
 },
 "nbformat": 4,
 "nbformat_minor": 2
}
