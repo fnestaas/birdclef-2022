{
 "cells": [
  {
   "cell_type": "code",
   "execution_count": 1,
   "metadata": {},
   "outputs": [
    {
     "ename": "NameError",
     "evalue": "name 'birds' is not defined",
     "output_type": "error",
     "traceback": [
      "\u001b[1;31m---------------------------------------------------------------------------\u001b[0m",
      "\u001b[1;31mNameError\u001b[0m                                 Traceback (most recent call last)",
      "Cell \u001b[1;32mIn [1], line 7\u001b[0m\n\u001b[0;32m      3\u001b[0m \u001b[39m#alpha1 must be bigger than alpha2 (FN worse than FP, but still have to do tuning)\u001b[39;00m\n\u001b[0;32m      4\u001b[0m \u001b[39m#Write the loss for only one recording, of course it will be applied to the whole batch\u001b[39;00m\n\u001b[0;32m      5\u001b[0m loss\u001b[39m=\u001b[39m\u001b[39m0\u001b[39m\n\u001b[1;32m----> 7\u001b[0m \u001b[39mfor\u001b[39;00m bird \u001b[39min\u001b[39;00m birds:\n\u001b[0;32m      8\u001b[0m     \u001b[39mif\u001b[39;00m (bird \u001b[39min\u001b[39;00m pred) \u001b[39mand\u001b[39;00m (bird \u001b[39mnot\u001b[39;00m \u001b[39min\u001b[39;00m labels):\n\u001b[0;32m      9\u001b[0m         loss\u001b[39m=\u001b[39mloss\u001b[39m+\u001b[39malpha2\u001b[39m*\u001b[39m(\u001b[39m2\u001b[39m\u001b[39m-\u001b[39m\u001b[39m1\u001b[39m\u001b[39m/\u001b[39meither[bird])\u001b[39m*\u001b[39mrating\n",
      "\u001b[1;31mNameError\u001b[0m: name 'birds' is not defined"
     ]
    }
   ],
   "source": [
    "#Personalised loss function\n",
    "alpha1=1.5 #type I error penalty\n",
    "alpha2=1 #type II error penalty \n",
    "#alpha1 must be bigger than alpha2 (FN worse than FP, but still have to do tuning)\n",
    "loss=0\n",
    "for batch_idx, (batch_x, batch_y) in enumerate(train_set)\n",
    "preds=model(batch_x)\n",
    "    for (i,j) in (batch_x,batch_y): #Is this the correct syntax?\n",
    "        pred=model[i]\n",
    "        labels=j\n",
    "        for bird in birds:\n",
    "            if (bird in pred) and (bird not in labels):\n",
    "                loss=loss+alpha2*(2-1/either[bird])*rating\n",
    "            if (bird not in pred) and (bird in labels):\n",
    "                loss=loss+alpha1*(1/either[bird])*rating"
   ]
  }
 ],
 "metadata": {
  "kernelspec": {
   "display_name": "Python 3.10.0 64-bit",
   "language": "python",
   "name": "python3"
  },
  "language_info": {
   "codemirror_mode": {
    "name": "ipython",
    "version": 3
   },
   "file_extension": ".py",
   "mimetype": "text/x-python",
   "name": "python",
   "nbconvert_exporter": "python",
   "pygments_lexer": "ipython3",
   "version": "3.10.0"
  },
  "orig_nbformat": 4,
  "vscode": {
   "interpreter": {
    "hash": "dfcdafd4c2f198e9231774dbaa691ef2a9d56c92dabac0fe3d9f172dfc08608e"
   }
  }
 },
 "nbformat": 4,
 "nbformat_minor": 2
}
