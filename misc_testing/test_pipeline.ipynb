{
 "cells": [
  {
   "cell_type": "markdown",
   "metadata": {},
   "source": [
    "# Test the Pipeline\n",
    "In this notebook we just test the implemented modules to verify that everything works.\n",
    "\n",
    "## Notes\n",
    "- If we want to apply mixup, we have to do so before passing the data to the model. In their implementation, when the model is in training mode, it gets both x and y and computes the mixup during the forward call. The way we have set this up here, the model expects *only* x, so if we want Mixup, we have to do so on the batch _before_ passing it to the model.\n",
    "- The modules themselves are still very simple and can be improved/we can add more functionality to them. "
   ]
  },
  {
   "cell_type": "code",
   "execution_count": 2,
   "metadata": {},
   "outputs": [
    {
     "name": "stderr",
     "output_type": "stream",
     "text": [
      "/home/fredrik/Documents/School/S9/AI4Good/ai4good_code/venv/lib/python3.9/site-packages/tqdm/auto.py:22: TqdmWarning: IProgress not found. Please update jupyter and ipywidgets. See https://ipywidgets.readthedocs.io/en/stable/user_install.html\n",
      "  from .autonotebook import tqdm as notebook_tqdm\n"
     ]
    }
   ],
   "source": [
    "%load_ext autoreload\n",
    "%autoreload 2 \n",
    "\n",
    "import sys\n",
    " \n",
    "# setting path\n",
    "sys.path.append('../')\n",
    "\n",
    "from modules.TransformApplier import TransformApplier \n",
    "from modules.Wav2Spec import Wav2Spec\n",
    "from modules.SimpleDataset import SimpleDataset\n",
    "from modules.PretrainedModel import *\n",
    "from modules.OnlyXTransform import OnlyXTransform\n",
    "from modules.SelectSplitData import * \n",
    "from modules.SimpleAttention import *\n",
    "\n",
    "import pandas as pd \n",
    "import torch.nn as nn\n",
    "import torch\n",
    "import timm\n",
    "import json\n",
    "from torch.utils.data import DataLoader\n",
    "import matplotlib.pyplot as plt \n",
    "import numpy as np "
   ]
  },
  {
   "cell_type": "code",
   "execution_count": 58,
   "metadata": {},
   "outputs": [],
   "source": [
    "DATA_PATH = '../birdclef-2022/'\n",
    "metadata = pd.read_csv(f'{DATA_PATH}train_metadata.csv')# [:4000]\n",
    "\n",
    "with open(f'{DATA_PATH}scored_birds.json') as f:\n",
    "    birds = json.load(f)"
   ]
  },
  {
   "cell_type": "code",
   "execution_count": 59,
   "metadata": {},
   "outputs": [],
   "source": [
    "dataset = SimpleDataset(metadata, DATA_PATH, labels=birds)"
   ]
  },
  {
   "cell_type": "markdown",
   "metadata": {},
   "source": [
    "## Define pipelines"
   ]
  },
  {
   "cell_type": "code",
   "execution_count": 60,
   "metadata": {},
   "outputs": [],
   "source": [
    "bs = 1\n",
    "device = 'cuda' if torch.cuda.is_available() else 'cpu'\n",
    "n_splits = 6\n",
    "duration = 30 \n",
    "def collate_fn(data):\n",
    "    max_dim = max([d[0].shape[-1] for d in data])\n",
    "    pad_x = lambda x: torch.concat([x, torch.zeros((max_dim - x.shape[-1], ))])\n",
    "    return torch.stack([pad_x(d[0]) for d in data], axis=0), torch.stack([torch.tensor(d[1]) for d in data])\n",
    "\n",
    "tts = metadata.sample(frac=.05).index # train test split\n",
    "df_val = metadata.iloc[tts]\n",
    "df_train = metadata.iloc[~tts]\n",
    "\n",
    "train_data = SimpleDataset(df_train, DATA_PATH, mode='train', labels=birds)\n",
    "val_data = SimpleDataset(df_val, DATA_PATH, mode='train', labels=birds)\n",
    "\n",
    "# create mode\n",
    "transforms1 = TransformApplier(\n",
    "    [\n",
    "        # SelectSplitData(duration, n_splits, sr=16000), \n",
    "        nn.Identity()\n",
    "    ]\n",
    ")\n",
    "\n",
    "wav2spec = Wav2Spec(\n",
    "    # n_fft=1024, \n",
    "    # sample_rate=16000, \n",
    "    # win_length=None, \n",
    "    \n",
    ")\n",
    "\n",
    "transforms2 = TransformApplier(\n",
    "    [\n",
    "        SelectSplitData(duration, n_splits, sr=128), \n",
    "        nn.Identity()\n",
    "    ]\n",
    ")\n",
    "\n",
    "cnn = PretrainedModel(\n",
    "    model_name='efficientnet_b2', \n",
    "    in_chans=1, # normally 3 for RGB-images\n",
    ")\n",
    "\n",
    "transforms3 = TransformApplier([SimpleAttention(cnn.get_out_dim()), RejoinSplitData(duration, n_splits)])\n",
    "\n",
    "output_head = OutputHead(n_in=cnn.get_out_dim() * n_splits, n_out=21)\n",
    "\n",
    "data_pipeline_train = nn.Sequential(\n",
    "    transforms1, \n",
    "    wav2spec,\n",
    "    transforms2, \n",
    ").to(device)\n",
    "\n",
    "data_pipeline_val = nn.Sequential(\n",
    "    transforms1, \n",
    "    wav2spec, \n",
    ").to(device) # Leaving out transforms2 since I think it will mostly be relevant for training\n",
    "\n",
    "model = nn.Sequential(\n",
    "    cnn,\n",
    "    transforms3, \n",
    "    output_head,\n",
    "    # transforms4\n",
    ").to(device)"
   ]
  },
  {
   "cell_type": "code",
   "execution_count": 61,
   "metadata": {},
   "outputs": [
    {
     "name": "stdout",
     "output_type": "stream",
     "text": [
      "FAIL READING rec ../birdclef-2022/train_audio/0      bknsti/XC395772.ogg\n",
      "1      eurwig/XC522536.ogg\n",
      "2      eurwig/XC134682.ogg\n",
      "3      pagplo/XC599330.ogg\n",
      "4      masboo/XC233873.ogg\n",
      "              ...         \n",
      "738    rorpar/XC600866.ogg\n",
      "739    peflov/XC453162.ogg\n",
      "740    laugul/XC333002.ogg\n",
      "741    hawama/XC503722.ogg\n",
      "742    wesmea/XC418077.ogg\n",
      "Name: filename, Length: 743, dtype: object\n"
     ]
    },
    {
     "name": "stderr",
     "output_type": "stream",
     "text": [
      "/home/fredrik/Documents/School/S9/AI4Good/ai4good_code/venv/lib/python3.9/site-packages/librosa/util/decorators.py:88: UserWarning: PySoundFile failed. Trying audioread instead.\n",
      "  return f(*args, **kwargs)\n"
     ]
    },
    {
     "ename": "UnboundLocalError",
     "evalue": "local variable 'wav' referenced before assignment",
     "output_type": "error",
     "traceback": [
      "\u001b[0;31m---------------------------------------------------------------------------\u001b[0m",
      "\u001b[0;31mUnboundLocalError\u001b[0m                         Traceback (most recent call last)",
      "Cell \u001b[0;32mIn [61], line 1\u001b[0m\n\u001b[0;32m----> 1\u001b[0m train_loader \u001b[39m=\u001b[39m DataLoader(train_data[:\u001b[39m1000\u001b[39m], batch_size\u001b[39m=\u001b[39mbs, num_workers\u001b[39m=\u001b[39m\u001b[39m8\u001b[39m, collate_fn\u001b[39m=\u001b[39mcollate_fn)\n\u001b[1;32m      2\u001b[0m val_loader \u001b[39m=\u001b[39m DataLoader(val_data[:\u001b[39m50\u001b[39m], batch_size\u001b[39m=\u001b[39mbs, num_workers\u001b[39m=\u001b[39m\u001b[39m8\u001b[39m, collate_fn\u001b[39m=\u001b[39mcollate_fn)\n\u001b[1;32m      3\u001b[0m iter_loader \u001b[39m=\u001b[39m \u001b[39miter\u001b[39m(train_loader)\n",
      "File \u001b[0;32m~/Documents/School/S9/AI4Good/ai4good_code/misc_testing/../modules/SimpleDataset.py:127\u001b[0m, in \u001b[0;36mSimpleDataset.__getitem__\u001b[0;34m(self, idx, debug)\u001b[0m\n\u001b[1;32m    125\u001b[0m offset \u001b[39m=\u001b[39m \u001b[39m0.0\u001b[39m\n\u001b[1;32m    126\u001b[0m duration \u001b[39m=\u001b[39m \u001b[39mNone\u001b[39;00m\n\u001b[0;32m--> 127\u001b[0m wav \u001b[39m=\u001b[39m \u001b[39mself\u001b[39;49m\u001b[39m.\u001b[39;49mload_one(path, offset, duration)\n\u001b[1;32m    128\u001b[0m wav_tensor \u001b[39m=\u001b[39m torch\u001b[39m.\u001b[39mtensor(wav)\n\u001b[1;32m    130\u001b[0m \u001b[39mreturn\u001b[39;00m wav_tensor, label\n",
      "File \u001b[0;32m~/Documents/School/S9/AI4Good/ai4good_code/misc_testing/../modules/SimpleDataset.py:139\u001b[0m, in \u001b[0;36mSimpleDataset.load_one\u001b[0;34m(self, id_, offset, duration)\u001b[0m\n\u001b[1;32m    136\u001b[0m \u001b[39mexcept\u001b[39;00m:\n\u001b[1;32m    137\u001b[0m     \u001b[39mprint\u001b[39m(\u001b[39m\"\u001b[39m\u001b[39mFAIL READING rec\u001b[39m\u001b[39m\"\u001b[39m, fp)\n\u001b[0;32m--> 139\u001b[0m \u001b[39mreturn\u001b[39;00m wav\n",
      "\u001b[0;31mUnboundLocalError\u001b[0m: local variable 'wav' referenced before assignment"
     ]
    }
   ],
   "source": [
    "train_loader = DataLoader(train_data[:1000], batch_size=bs, num_workers=8, collate_fn=collate_fn)\n",
    "val_loader = DataLoader(val_data[:50], batch_size=bs, num_workers=8, collate_fn=collate_fn)\n",
    "iter_loader = iter(train_loader)\n",
    "d = next(iter_loader)\n",
    "out_train_pipeline = data_pipeline_train(d)\n",
    "print([i.shape for i in out_train_pipeline])\n",
    "print(out_train_pipeline[-1])"
   ]
  },
  {
   "cell_type": "code",
   "execution_count": 39,
   "metadata": {},
   "outputs": [
    {
     "data": {
      "image/png": "[encoded data removed]",
      "text/plain": [
       "<Figure size 640x480 with 6 Axes>"
      ]
     },
     "metadata": {},
     "output_type": "display_data"
    }
   ],
   "source": [
    "w = 2\n",
    "h = n_splits // w\n",
    "fig, axs = plt.subplots(w, n_splits // w)\n",
    "if h > 1:\n",
    "    for i in range(w):\n",
    "        for j, ax in enumerate(axs[i]):\n",
    "            ax.imshow(out_train_pipeline[0][i * h + j])\n",
    "else:\n",
    "    for i, ax in enumerate(axs):\n",
    "        ax.imshow(out_train_pipeline[0][i])\n",
    "fig.tight_layout()\n",
    "plt.show()"
   ]
  },
  {
   "cell_type": "code",
   "execution_count": 64,
   "metadata": {},
   "outputs": [
    {
     "name": "stdout",
     "output_type": "stream",
     "text": [
      "(1464, 1)\n"
     ]
    }
   ],
   "source": [
    "def find_positive(dataset):\n",
    "    primary_labels = np.stack(dataset.primary_label)\n",
    "    secondary_labels = np.stack(dataset.secondary_label)\n",
    "    labels = primary_labels + secondary_labels\n",
    "    return np.argwhere(labels.max(axis=1)>0)"
   ]
  },
  {
   "cell_type": "code",
   "execution_count": 8,
   "metadata": {},
   "outputs": [
    {
     "name": "stdout",
     "output_type": "stream",
     "text": [
      "FAIL READING rec ../birdclef-2022/train_audio/akepa1/XC175511.ogg\n"
     ]
    },
    {
     "ename": "UnboundLocalError",
     "evalue": "local variable 'wav' referenced before assignment",
     "output_type": "error",
     "traceback": [
      "\u001b[0;31m---------------------------------------------------------------------------\u001b[0m",
      "\u001b[0;31mUnboundLocalError\u001b[0m                         Traceback (most recent call last)",
      "Cell \u001b[0;32mIn [8], line 30\u001b[0m\n\u001b[1;32m     28\u001b[0m         i \u001b[39m=\u001b[39m i \u001b[39m+\u001b[39m \u001b[39m1\u001b[39m\n\u001b[1;32m     29\u001b[0m     \u001b[39mreturn\u001b[39;00m metadata\u001b[39m.\u001b[39miloc[ids]\n\u001b[0;32m---> 30\u001b[0m metadata \u001b[39m=\u001b[39m find_positive(full_dataset, N\u001b[39m=\u001b[39m\u001b[39m100\u001b[39m, metadata\u001b[39m=\u001b[39mmetadata)\n",
      "Cell \u001b[0;32mIn [8], line 24\u001b[0m, in \u001b[0;36mfind_positive\u001b[0;34m(dataset, N, metadata)\u001b[0m\n\u001b[1;32m     22\u001b[0m ids \u001b[39m=\u001b[39m []\n\u001b[1;32m     23\u001b[0m \u001b[39mwhile\u001b[39;00m found \u001b[39m<\u001b[39m N \u001b[39mand\u001b[39;00m i \u001b[39m<\u001b[39m \u001b[39mlen\u001b[39m(dataset):\n\u001b[0;32m---> 24\u001b[0m     lbl \u001b[39m=\u001b[39m dataset[i][\u001b[39m1\u001b[39m]\n\u001b[1;32m     25\u001b[0m     \u001b[39mif\u001b[39;00m lbl\u001b[39m.\u001b[39msum() \u001b[39m>\u001b[39m \u001b[39m0\u001b[39m:\n\u001b[1;32m     26\u001b[0m         found \u001b[39m=\u001b[39m found \u001b[39m+\u001b[39m \u001b[39m1\u001b[39m\n",
      "File \u001b[0;32m~/Documents/School/S9/AI4Good/ai4good_code/misc_testing/../modules/SimpleDataset.py:127\u001b[0m, in \u001b[0;36mSimpleDataset.__getitem__\u001b[0;34m(self, idx, debug)\u001b[0m\n\u001b[1;32m    125\u001b[0m offset \u001b[39m=\u001b[39m \u001b[39m0.0\u001b[39m\n\u001b[1;32m    126\u001b[0m duration \u001b[39m=\u001b[39m \u001b[39mNone\u001b[39;00m\n\u001b[0;32m--> 127\u001b[0m wav \u001b[39m=\u001b[39m \u001b[39mself\u001b[39;49m\u001b[39m.\u001b[39;49mload_one(path, offset, duration)\n\u001b[1;32m    128\u001b[0m wav_tensor \u001b[39m=\u001b[39m torch\u001b[39m.\u001b[39mtensor(wav)\n\u001b[1;32m    130\u001b[0m \u001b[39mreturn\u001b[39;00m wav_tensor, label\n",
      "File \u001b[0;32m~/Documents/School/S9/AI4Good/ai4good_code/misc_testing/../modules/SimpleDataset.py:139\u001b[0m, in \u001b[0;36mSimpleDataset.load_one\u001b[0;34m(self, id_, offset, duration)\u001b[0m\n\u001b[1;32m    136\u001b[0m \u001b[39mexcept\u001b[39;00m:\n\u001b[1;32m    137\u001b[0m     \u001b[39mprint\u001b[39m(\u001b[39m\"\u001b[39m\u001b[39mFAIL READING rec\u001b[39m\u001b[39m\"\u001b[39m, fp)\n\u001b[0;32m--> 139\u001b[0m \u001b[39mreturn\u001b[39;00m wav\n",
      "\u001b[0;31mUnboundLocalError\u001b[0m: local variable 'wav' referenced before assignment"
     ]
    }
   ],
   "source": [
    "# import numpy as np\n",
    "# for i in range(1000):\n",
    "#     d = dataset.__getitem__(i, debug=False)\n",
    "#     if np.sum(d[-1]) > 2:\n",
    "#         dataset.__getitem__(i, debug=True)\n",
    "#         print(i, d)\n",
    "#         break\n",
    "\n",
    "with open(f'{DATA_PATH}scored_birds.json') as f:\n",
    "        birds = json.load(f)\n",
    "\n",
    "metadata = pd.read_csv(f'{DATA_PATH}train_metadata.csv')\n",
    "# choose only samples with a positive label\n",
    "full_dataset = SimpleDataset(metadata, DATA_PATH, mode='train', labels=birds)\n",
    "\n",
    "def find_positive(dataset, N, metadata):\n",
    "    \"\"\"\n",
    "    return a dataset with N positive samples\n",
    "    \"\"\"\n",
    "    found = 0\n",
    "    i = 0\n",
    "    ids = []\n",
    "    while found < N and i < len(dataset):\n",
    "        lbl = dataset[i][1]\n",
    "        if lbl.sum() > 0:\n",
    "            found = found + 1\n",
    "            ids.append(i)\n",
    "        i = i + 1\n",
    "    return metadata.iloc[ids]\n",
    "metadata = find_positive(full_dataset, N=100, metadata=metadata)"
   ]
  },
  {
   "cell_type": "code",
   "execution_count": null,
   "metadata": {},
   "outputs": [
    {
     "name": "stdout",
     "output_type": "stream",
     "text": [
      "[2, 1, 1, 5, 3, 2, 3, 5, 3, 2, 2, 1, 1, 4, 4, 2, 7, 6, 4, 5, 1, 3, 2, 1, 2, 2, 1, 1, 1, 1, 2, 2, 1, 1, 1, 1, 1, 1, 2, 1, 1, 1, 2, 1, 1, 1, 2, 2, 2, 1, 1, 1, 1, 1, 1, 1, 2, 1, 1, 1, 2, 1, 4, 1, 1, 2, 1, 3, 1, 1, 2, 1, 1, 2, 1, 1, 1, 1, 1, 1, 1, 1, 2, 1, 1, 2, 2, 1, 1, 1, 1, 1, 1, 1, 1, 1, 1, 1, 1, 1]\n"
     ]
    }
   ],
   "source": [
    "import numpy as np\n",
    "reduced_dataset = SimpleDataset(metadata, DATA_PATH, mode='train', labels=birds)\n",
    "print([reduced_dataset[i][-1].sum() for i in range(100)])"
   ]
  },
  {
   "cell_type": "code",
   "execution_count": null,
   "metadata": {},
   "outputs": [],
   "source": []
  }
 ],
 "metadata": {
  "kernelspec": {
   "display_name": "Python 3.9.7 ('venv': venv)",
   "language": "python",
   "name": "python3"
  },
  "language_info": {
   "codemirror_mode": {
    "name": "ipython",
    "version": 3
   },
   "file_extension": ".py",
   "mimetype": "text/x-python",
   "name": "python",
   "nbconvert_exporter": "python",
   "pygments_lexer": "ipython3",
   "version": "3.9.7"
  },
  "orig_nbformat": 4,
  "vscode": {
   "interpreter": {
    "hash": "ad735b6331381b4aa24eee4bc884a68ab8bc065c6ee95bf0f72270a9ca226ae5"
   }
  }
 },
 "nbformat": 4,
 "nbformat_minor": 2
}
