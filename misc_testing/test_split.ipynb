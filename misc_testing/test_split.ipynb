{
 "cells": [
  {
   "cell_type": "markdown",
   "metadata": {
    "collapsed": true,
    "pycharm": {
     "name": "#%% md\n"
    }
   },
   "source": [
    "# Test the split\n",
    "Notebook for testing SelectSplitData and comparing it with the ValidationSplit"
   ]
  },
  {
   "cell_type": "code",
   "execution_count": 4,
   "metadata": {
    "pycharm": {
     "name": "#%%\n"
    }
   },
   "outputs": [],
   "source": [
    "%load_ext autoreload\n",
    "%autoreload 2\n",
    "\n",
    "import sys\n",
    "\n",
    "# setting path\n",
    "sys.path.append('../')\n",
    "\n",
    "from modules.TransformApplier import TransformApplier\n",
    "from modules.Wav2Spec import Wav2Spec\n",
    "from modules.SimpleDataset import SimpleDataset\n",
    "from modules.PretrainedModel import *\n",
    "from modules.OnlyXTransform import OnlyXTransform\n",
    "from modules.SelectSplitData import *\n",
    "from modules.SimpleAttention import *\n",
    "\n",
    "import pandas as pd\n",
    "import torch.nn as nn\n",
    "import torch\n",
    "import timm\n",
    "import json\n",
    "from torch.utils.data import DataLoader\n",
    "import matplotlib.pyplot as plt\n",
    "import numpy as np\n",
    "\n"
   ]
  },
  {
   "cell_type": "code",
   "execution_count": 72,
   "metadata": {},
   "outputs": [],
   "source": [
    "def collate_fn(data):\n",
    "    \"\"\"\n",
    "    Define how the DataLoaders should batch the data\n",
    "    \"\"\"\n",
    "    max_dim = max([d[0].shape[-1] for d in data])\n",
    "    pad_x = lambda x: torch.concat([x, torch.zeros((max_dim - x.shape[-1], ))])\n",
    "    return torch.stack([pad_x(d[0]) for d in data], axis=0), torch.stack([torch.tensor(d[1]) for d in data])\n",
    "    "
   ]
  },
  {
   "cell_type": "code",
   "execution_count": 63,
   "metadata": {
    "pycharm": {
     "name": "#%%\n"
    }
   },
   "outputs": [],
   "source": [
    "DATA_PATH = '../data/'\n",
    "metadata = pd.read_csv(f'{DATA_PATH}train_metadata.csv')# [:4000]\n",
    "\n",
    "with open(f'{DATA_PATH}all_birds.json') as f:\n",
    "    birds = json.load(f)"
   ]
  },
  {
   "cell_type": "code",
   "execution_count": 64,
   "metadata": {},
   "outputs": [],
   "source": [
    "tts = metadata.sample(frac=.05).index # train test split\n",
    "df_val = metadata.iloc[tts]\n",
    "df_train = metadata.drop(axis=0,index=tts)"
   ]
  },
  {
   "cell_type": "code",
   "execution_count": 67,
   "metadata": {
    "pycharm": {
     "name": "#%%\n"
    }
   },
   "outputs": [],
   "source": [
    "train_data = SimpleDataset(df_train, DATA_PATH, mode='train', labels=birds)\n",
    "val_data = SimpleDataset(df_val, DATA_PATH, mode='train', labels=birds)"
   ]
  },
  {
   "cell_type": "code",
   "execution_count": 71,
   "metadata": {},
   "outputs": [
    {
     "data": {
      "text/plain": [
       "743"
      ]
     },
     "execution_count": 71,
     "metadata": {},
     "output_type": "execute_result"
    }
   ],
   "source": [
    "len(val_data)"
   ]
  },
  {
   "cell_type": "code",
   "execution_count": 73,
   "metadata": {},
   "outputs": [],
   "source": [
    "bs = 16\n",
    "train_loader = DataLoader(train_data, batch_size=bs, num_workers=4, collate_fn=collate_fn, shuffle=True)\n",
    "val_loader = DataLoader(val_data, batch_size=bs, num_workers=4, collate_fn=collate_fn)\n",
    "# 1 row per batch 47 for val, 882 for train"
   ]
  },
  {
   "cell_type": "code",
   "execution_count": 80,
   "metadata": {},
   "outputs": [],
   "source": [
    "duration = 30\n",
    "n_splits = 5\n",
    "transforms1 = TransformApplier([nn.Identity(), SelectSplitData(duration, n_splits)])\n",
    "data_pipeline_val = nn.Sequential(\n",
    "    transforms1, \n",
    ").to(device)\n"
   ]
  },
  {
   "cell_type": "code",
   "execution_count": null,
   "metadata": {},
   "outputs": [],
   "source": []
  }
 ],
 "metadata": {
  "kernelspec": {
   "display_name": "Python 3 (ipykernel)",
   "language": "python",
   "name": "python3"
  },
  "language_info": {
   "codemirror_mode": {
    "name": "ipython",
    "version": 3
   },
   "file_extension": ".py",
   "mimetype": "text/x-python",
   "name": "python",
   "nbconvert_exporter": "python",
   "pygments_lexer": "ipython3",
   "version": "3.10.6"
  }
 },
 "nbformat": 4,
 "nbformat_minor": 1
}
